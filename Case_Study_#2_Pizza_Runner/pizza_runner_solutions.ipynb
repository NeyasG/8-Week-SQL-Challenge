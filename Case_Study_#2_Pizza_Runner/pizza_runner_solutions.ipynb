{
 "cells": [
  {
   "cell_type": "code",
   "execution_count": 15,
   "metadata": {},
   "outputs": [
    {
     "data": {
      "text/plain": [
       "True"
      ]
     },
     "execution_count": 15,
     "metadata": {},
     "output_type": "execute_result"
    }
   ],
   "source": [
    "import os\n",
    "from dotenv import load_dotenv\n",
    "load_dotenv()"
   ]
  },
  {
   "cell_type": "code",
   "execution_count": 1,
   "metadata": {},
   "outputs": [
    {
     "name": "stdout",
     "output_type": "stream",
     "text": [
      "Note: you may need to restart the kernel to use updated packages.\n"
     ]
    }
   ],
   "source": [
    "%pip install jupysql duckdb-engine --quiet"
   ]
  },
  {
   "cell_type": "code",
   "execution_count": 2,
   "metadata": {},
   "outputs": [
    {
     "name": "stdout",
     "output_type": "stream",
     "text": [
      "Collecting package metadata (current_repodata.json): ...working... WARNING conda.models.version:get_matcher(556): Using .* with relational operator is superfluous and deprecated and will be removed in a future version of conda. Your spec was 1.7.1.*, but conda is ignoring the .* and treating it as 1.7.1\n",
      "done\n",
      "Solving environment: ...working... done\n",
      "\n",
      "# All requested packages already installed.\n",
      "\n",
      "\n",
      "Note: you may need to restart the kernel to use updated packages.\n"
     ]
    }
   ],
   "source": [
    "%conda install mysqlclient -c conda-forge --quiet"
   ]
  },
  {
   "cell_type": "code",
   "execution_count": 33,
   "metadata": {},
   "outputs": [],
   "source": [
    "from sqlalchemy import create_engine\n",
    "\n",
    "user = os.environ[\"mysql_username\"]\n",
    "password = os.environ[\"mysql_password\"]\n",
    "\n",
    "# File path to Unix Domain connection socket had to be specified\n",
    "# See here https://docs.sqlalchemy.org/en/20/dialects/postgresql.html#unix-domain-connections\n",
    "url = f\"mysql+mysqldb://{user}:{password}@/pizza_runner?unix_socket=/var/run/mysqld/mysqld.sock\"\n",
    "engine = create_engine(url)\n"
   ]
  },
  {
   "cell_type": "code",
   "execution_count": 37,
   "metadata": {},
   "outputs": [
    {
     "name": "stdout",
     "output_type": "stream",
     "text": [
      "Note: you may need to restart the kernel to use updated packages.\n",
      "The sql extension is already loaded. To reload it, use:\n",
      "  %reload_ext sql\n"
     ]
    }
   ],
   "source": [
    "%pip install jupysql --quiet\n",
    "%load_ext sql\n",
    "%sql engine"
   ]
  },
  {
   "cell_type": "code",
   "execution_count": 38,
   "metadata": {},
   "outputs": [
    {
     "data": {
      "text/html": [
       "<table>\n",
       "    <thead>\n",
       "        <tr>\n",
       "            <th>Name</th>\n",
       "        </tr>\n",
       "    </thead>\n",
       "    <tbody>\n",
       "        <tr>\n",
       "            <td>customer_orders</td>\n",
       "        </tr>\n",
       "        <tr>\n",
       "            <td>pizza_names</td>\n",
       "        </tr>\n",
       "        <tr>\n",
       "            <td>pizza_recipes</td>\n",
       "        </tr>\n",
       "        <tr>\n",
       "            <td>pizza_toppings</td>\n",
       "        </tr>\n",
       "        <tr>\n",
       "            <td>runner_orders</td>\n",
       "        </tr>\n",
       "        <tr>\n",
       "            <td>runners</td>\n",
       "        </tr>\n",
       "    </tbody>\n",
       "</table>"
      ],
      "text/plain": [
       "+-----------------+\n",
       "|       Name      |\n",
       "+-----------------+\n",
       "| customer_orders |\n",
       "|   pizza_names   |\n",
       "|  pizza_recipes  |\n",
       "|  pizza_toppings |\n",
       "|  runner_orders  |\n",
       "|     runners     |\n",
       "+-----------------+"
      ]
     },
     "execution_count": 38,
     "metadata": {},
     "output_type": "execute_result"
    }
   ],
   "source": [
    "%sqlcmd tables"
   ]
  }
 ],
 "metadata": {
  "kernelspec": {
   "display_name": "8wk_SQL_challenge-b7eLCSXx",
   "language": "python",
   "name": "python3"
  },
  "language_info": {
   "codemirror_mode": {
    "name": "ipython",
    "version": 3
   },
   "file_extension": ".py",
   "mimetype": "text/x-python",
   "name": "python",
   "nbconvert_exporter": "python",
   "pygments_lexer": "ipython3",
   "version": "3.11.5"
  }
 },
 "nbformat": 4,
 "nbformat_minor": 2
}
